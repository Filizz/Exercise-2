{
 "cells": [
  {
   "cell_type": "markdown",
   "id": "d3107231",
   "metadata": {},
   "source": [
    "# 4. Lists"
   ]
  },
  {
   "cell_type": "markdown",
   "id": "7cf75c3b",
   "metadata": {},
   "source": [
    "# Exercise 4.1: Short questions"
   ]
  },
  {
   "cell_type": "code",
   "execution_count": 12,
   "id": "23f86746",
   "metadata": {},
   "outputs": [],
   "source": [
    "def print_list(list):\n",
    "    for item in list:\n",
    "        print(item)"
   ]
  },
  {
   "cell_type": "code",
   "execution_count": 11,
   "id": "c95e0925",
   "metadata": {},
   "outputs": [
    {
     "name": "stdout",
     "output_type": "stream",
     "text": [
      "Original List: [1, 2, 3]\n",
      "Updated List: [3, 2, 1]\n"
     ]
    }
   ],
   "source": [
    "systems = [1, 2, 3]\n",
    "print('Original List:', systems)\n",
    "\n",
    "systems.reverse()\n",
    "\n",
    "print('Updated List:', systems)"
   ]
  },
  {
   "cell_type": "code",
   "execution_count": 13,
   "id": "3407bc9e",
   "metadata": {},
   "outputs": [],
   "source": [
    "def myLen(list):\n",
    "    counter = 0\n",
    "    for item in list:\n",
    "        counter+=1\n",
    "    return counter"
   ]
  },
  {
   "cell_type": "markdown",
   "id": "47a6d788",
   "metadata": {},
   "source": [
    "# Exercise 4.2: Copying lists"
   ]
  },
  {
   "cell_type": "code",
   "execution_count": 22,
   "id": "b84d7b6c",
   "metadata": {},
   "outputs": [],
   "source": [
    "a = [1,2,3,4,5,6,7,8,9]"
   ]
  },
  {
   "cell_type": "code",
   "execution_count": 23,
   "id": "9afcd8e1",
   "metadata": {},
   "outputs": [],
   "source": [
    "b = a"
   ]
  },
  {
   "cell_type": "code",
   "execution_count": 24,
   "id": "7f12522e",
   "metadata": {},
   "outputs": [],
   "source": [
    "b[1] = 123"
   ]
  },
  {
   "cell_type": "code",
   "execution_count": 5,
   "id": "cba29807",
   "metadata": {},
   "outputs": [],
   "source": [
    "# a[1] changed, that b[1] also changed"
   ]
  },
  {
   "cell_type": "code",
   "execution_count": 25,
   "id": "c2cfc261",
   "metadata": {},
   "outputs": [],
   "source": [
    "c = a[:]"
   ]
  },
  {
   "cell_type": "code",
   "execution_count": 7,
   "id": "2bc1e6e9",
   "metadata": {},
   "outputs": [],
   "source": [
    "# This time, list \"a\" didn't change."
   ]
  },
  {
   "cell_type": "code",
   "execution_count": 21,
   "id": "69009595",
   "metadata": {},
   "outputs": [],
   "source": [
    "def set_first_elem_to_zero(list):\n",
    "    list[0] = 0\n",
    "    return list\n",
    "\n",
    "# The list was changed in and outside of the function"
   ]
  },
  {
   "cell_type": "markdown",
   "id": "85fa83c8",
   "metadata": {},
   "source": [
    "# Exercise 4.3: Lists of lists"
   ]
  },
  {
   "cell_type": "code",
   "execution_count": 9,
   "id": "c73e9c12",
   "metadata": {},
   "outputs": [],
   "source": [
    "a = [[]] * 3\n",
    "\n",
    "b = [[] for _ in xrange(3)]\n",
    "\n",
    "#a and b are equals."
   ]
  },
  {
   "cell_type": "markdown",
   "id": "c5f2c4a0",
   "metadata": {},
   "source": [
    "# Exercise 4.4: Lists and functions "
   ]
  },
  {
   "cell_type": "code",
   "execution_count": 16,
   "id": "5feff766",
   "metadata": {},
   "outputs": [],
   "source": [
    "def set_index_to_zero(list, index):\n",
    "    list[index] = 0\n",
    "    return list"
   ]
  },
  {
   "cell_type": "markdown",
   "id": "cb51087d",
   "metadata": {},
   "source": [
    "# Exercise 4.5: Primes"
   ]
  },
  {
   "cell_type": "code",
   "execution_count": 1,
   "id": "b0d2b638",
   "metadata": {},
   "outputs": [],
   "source": [
    "def print_primes(n):\n",
    "    primes_list = []\n",
    "    for i in range (0, n):\n",
    "        if (is_prime(i)):\n",
    "            primes_list.append(i)\n",
    "    return(primes_list)"
   ]
  },
  {
   "cell_type": "code",
   "execution_count": 2,
   "id": "bb420841",
   "metadata": {},
   "outputs": [],
   "source": [
    "def first_primes(n):\n",
    "    counter = 0\n",
    "    primes_list = []\n",
    "    tester = 0\n",
    "    while n > counter:\n",
    "        if (is_prime(tester)):\n",
    "            primes_list.append(tester)\n",
    "            counter += 1\n",
    "            tester += 1\n",
    "        else:\n",
    "            tester += 1\n",
    "    return primes_list"
   ]
  },
  {
   "cell_type": "markdown",
   "id": "65d53341",
   "metadata": {},
   "source": [
    "# Exercise 4.6: List comprehensions"
   ]
  },
  {
   "cell_type": "code",
   "execution_count": 2,
   "id": "2e1b3b93",
   "metadata": {},
   "outputs": [],
   "source": [
    "def cartestion(x, y):\n",
    "    z = []\n",
    "    for item in x:\n",
    "        for element in y:\n",
    "            z.append([item, element])\n",
    "    return z"
   ]
  },
  {
   "cell_type": "code",
   "execution_count": 4,
   "id": "9a00868e",
   "metadata": {},
   "outputs": [],
   "source": [
    "def cartestion2(x, y):\n",
    "    z = []\n",
    "    for item in x:\n",
    "        for element in y:\n",
    "            if (item < element):\n",
    "                z.append([item, element])\n",
    "    return z"
   ]
  },
  {
   "cell_type": "markdown",
   "id": "61be4211",
   "metadata": {},
   "source": [
    "# Exercise 4.7: Filter"
   ]
  },
  {
   "cell_type": "code",
   "execution_count": 5,
   "id": "2c4b7265",
   "metadata": {},
   "outputs": [],
   "source": [
    "def myfilter(obj):\n",
    "    return [x for x in obj ] # + condition "
   ]
  },
  {
   "cell_type": "markdown",
   "id": "18c2b59c",
   "metadata": {},
   "source": [
    "# Exercise 4.8: Flatten a list of lists"
   ]
  },
  {
   "cell_type": "code",
   "execution_count": 8,
   "id": "43c35793",
   "metadata": {},
   "outputs": [
    {
     "name": "stdout",
     "output_type": "stream",
     "text": [
      "[1, 3, 3, 6]\n"
     ]
    }
   ],
   "source": [
    "from functools import reduce\n",
    " \n",
    "if __name__ == '__main__':\n",
    " \n",
    "    lists = [[1, 3], [3, 6]]\n",
    "    adder = lambda x, y: x+y\n",
    "    joinedlist = reduce(adder, lists)\n",
    " \n",
    "    print(joinedlist)"
   ]
  },
  {
   "cell_type": "markdown",
   "id": "a9f7537f",
   "metadata": {},
   "source": [
    "# Exercise 4.9: Finding the longest word"
   ]
  },
  {
   "cell_type": "code",
   "execution_count": 21,
   "id": "a8127a34",
   "metadata": {},
   "outputs": [],
   "source": [
    "import re\n",
    "def find_longest_word(line):\n",
    "    words = line.split()\n",
    "    longest = 0\n",
    "    theWord = \"\"\n",
    "    for item in words:\n",
    "        item = re.sub(r'\\W+', '', item)\n",
    "        if (len(item)>=longest):\n",
    "            longest = len(item)\n",
    "            theWord = item\n",
    "    return theWord"
   ]
  },
  {
   "cell_type": "markdown",
   "id": "e7e9affa",
   "metadata": {},
   "source": [
    "# Exercise 4.10: Collatz sequence, part 2"
   ]
  },
  {
   "cell_type": "code",
   "execution_count": 22,
   "id": "9b9c3805",
   "metadata": {},
   "outputs": [],
   "source": [
    "def calc_collatz(collatz):\n",
    "    collizt = []\n",
    "    while (collatz!=1):\n",
    "        if (collatz % 2 == 1): \n",
    "            collatz = 3 * collatz + 1\n",
    "            collizt.append(collatz)\n",
    "        elif (collatz % 2 == 0):\n",
    "            collatz = collatz / 2\n",
    "            collizt.append(collatz)\n",
    "    return collizt"
   ]
  },
  {
   "cell_type": "code",
   "execution_count": 23,
   "id": "ae76a0b1",
   "metadata": {},
   "outputs": [],
   "source": [
    "def longest_collatz(n):\n",
    "    longest = 0\n",
    "    longest_n = 0\n",
    "    for i in range(n):\n",
    "        result = calc_collatz(i)\n",
    "        length = result[1]\n",
    "        if (length >= longest):\n",
    "            longest = length\n",
    "            longest_n = i\n",
    "    return longest_n"
   ]
  },
  {
   "cell_type": "markdown",
   "id": "2a1a59c5",
   "metadata": {},
   "source": [
    "# Exercise 4.11: Pivots"
   ]
  },
  {
   "cell_type": "code",
   "execution_count": 24,
   "id": "acb681c2",
   "metadata": {},
   "outputs": [],
   "source": [
    "def pivots(n, list):\n",
    "    list.sort()\n",
    "    for num in list:\n",
    "        if (num >= n):\n",
    "            list.insert(list.index(num), n)\n",
    "            return list\n",
    "    return []"
   ]
  },
  {
   "cell_type": "markdown",
   "id": "e58f3829",
   "metadata": {},
   "source": [
    "# Exercise 4.12: Prime challenge"
   ]
  },
  {
   "cell_type": "code",
   "execution_count": 26,
   "id": "cda0c9cf",
   "metadata": {},
   "outputs": [
    {
     "name": "stdout",
     "output_type": "stream",
     "text": [
      "[2, 3, 5, 7, 11, 13, 17, 19]\n"
     ]
    }
   ],
   "source": [
    "n = 20\n",
    "primes = [i for i in range(2, n + 1) if all(i%j != 0 for j in range(2, int(i ** 0.5) + 1))]\n",
    "print(primes)"
   ]
  },
  {
   "cell_type": "markdown",
   "id": "4f9ff31e",
   "metadata": {},
   "source": [
    "# 5. Tuples"
   ]
  },
  {
   "cell_type": "markdown",
   "id": "22958032",
   "metadata": {},
   "source": [
    "# Exercise 5.1: Swapping two values"
   ]
  },
  {
   "cell_type": "code",
   "execution_count": 6,
   "id": "bab3e45a",
   "metadata": {},
   "outputs": [
    {
     "name": "stdout",
     "output_type": "stream",
     "text": [
      "a = 2\n",
      "b = 1\n"
     ]
    }
   ],
   "source": [
    "a = 1\n",
    "b = 2\n",
    "\n",
    "a, b = b, a\n",
    "print(\"a =\", a)\n",
    "print(\"b =\", b)"
   ]
  },
  {
   "cell_type": "markdown",
   "id": "0176b4f0",
   "metadata": {},
   "source": [
    "# Exercise 5.2: Zip"
   ]
  },
  {
   "cell_type": "code",
   "execution_count": 4,
   "id": "43b56cf4",
   "metadata": {},
   "outputs": [
    {
     "name": "stdout",
     "output_type": "stream",
     "text": [
      "[('x', 3), ('y', 4), ('z', 5)]\n",
      "a = ('x', 'y', 'z')\n",
      "b = (3, 4, 5)\n"
     ]
    }
   ],
   "source": [
    "coordinate = ['x', 'y', 'z']\n",
    "value = [3, 4, 5]\n",
    "\n",
    "result = zip(coordinate, value)\n",
    "result_list = list(result)\n",
    "print(result_list)\n",
    "\n",
    "a, b =  zip(*result_list)\n",
    "print('a =', a)\n",
    "print('b =', b)"
   ]
  },
  {
   "cell_type": "markdown",
   "id": "cdccded5",
   "metadata": {},
   "source": [
    "# Exercise 5.3: Distances"
   ]
  },
  {
   "cell_type": "code",
   "execution_count": 22,
   "id": "5063df85",
   "metadata": {},
   "outputs": [
    {
     "name": "stdout",
     "output_type": "stream",
     "text": [
      "13.0\n",
      "6.082762530298219\n"
     ]
    }
   ],
   "source": [
    "from math import sqrt\n",
    " \n",
    "\n",
    "def minkowski_distance(a, b, p):\n",
    "\treturn sum(abs(e1-e2)**p for e1, e2 in zip(a,b))**(1/p)\n",
    " \n",
    "\n",
    "row1 = [10, 20, 15, 10, 5]\n",
    "row2 = [12, 24, 18, 8, 7]\n",
    "\n",
    "dist = minkowski_distance(row1, row2, 1)\n",
    "print(dist)\n",
    "\n",
    "dist = minkowski_distance(row1, row2, 2)\n",
    "print(dist)"
   ]
  },
  {
   "cell_type": "markdown",
   "id": "971df3ea",
   "metadata": {},
   "source": [
    "# 6. Dictionaries"
   ]
  },
  {
   "cell_type": "markdown",
   "id": "3cdb0247",
   "metadata": {},
   "source": [
    "# Exercise 6.1: Printing a dictionary"
   ]
  },
  {
   "cell_type": "code",
   "execution_count": 40,
   "id": "7b255744",
   "metadata": {},
   "outputs": [],
   "source": [
    "def print_dict(dict):\n",
    "    for key, value in dict.items():\n",
    "        print (key + \": \" + value)"
   ]
  },
  {
   "cell_type": "markdown",
   "id": "445fac9b",
   "metadata": {},
   "source": [
    "# Exercise 6.2: Histogram"
   ]
  },
  {
   "cell_type": "code",
   "execution_count": 44,
   "id": "83c84397",
   "metadata": {},
   "outputs": [],
   "source": [
    "def histogram(list):\n",
    "    dict = {};\n",
    "    for item in list:\n",
    "        if item in dict:\n",
    "            value = dict[item];\n",
    "            value += 1;\n",
    "            dict[item] = value;\n",
    "        else:\n",
    "            dict[item] = 1;\n",
    "    print (dict)"
   ]
  },
  {
   "cell_type": "markdown",
   "id": "7d54f84f",
   "metadata": {},
   "source": [
    "# Exercise 6.3: Get method"
   ]
  },
  {
   "cell_type": "code",
   "execution_count": 42,
   "id": "dcd42996",
   "metadata": {},
   "outputs": [],
   "source": [
    "def get_method(dictionary, key, default):\n",
    "    for k, v in dictionary.items():\n",
    "        if (k == key):\n",
    "            return v\n",
    "        return default"
   ]
  },
  {
   "cell_type": "markdown",
   "id": "99c1a1a2",
   "metadata": {},
   "source": [
    "# Exercise 6.5: Vector functions"
   ]
  },
  {
   "cell_type": "code",
   "execution_count": 43,
   "id": "32186c31",
   "metadata": {},
   "outputs": [],
   "source": [
    "def add_dense_vectors(vector1, vector2):\n",
    "    vector_final = []\n",
    "    if (len(vector1)!=len(vector2)):\n",
    "        return;\n",
    "    else:\n",
    "        for x, y in zip(vector1, vector2):\n",
    "            coordinate = x + y\n",
    "            vector_final.append(coordinate)\n",
    "        print(vector_final)"
   ]
  },
  {
   "cell_type": "code",
   "execution_count": 25,
   "id": "b8795305",
   "metadata": {},
   "outputs": [],
   "source": [
    "def dense_dot_product(vector1, vector2):\n",
    "    product = numpy.dot(vector1, vector2)\n",
    "    print(product)"
   ]
  },
  {
   "cell_type": "code",
   "execution_count": 46,
   "id": "82add8d3",
   "metadata": {},
   "outputs": [],
   "source": [
    "def convert_sparse_to_dense(dict):\n",
    "    vector_list = []\n",
    "    for key, value in dict.items():\n",
    "        vector_list.append(value)\n",
    "    return vector_list\n",
    "\n",
    "def add_sparse_vectors(vector1, vector2):\n",
    "    vector1 = convert_sparse_to_dense(vector1)\n",
    "    vector2 = convert_sparse_to_dense(vector2)\n",
    "    vector_final = []\n",
    "    if (len(vector1)!=len(vector2)):\n",
    "        return;\n",
    "    else:\n",
    "        for x, y in zip(vector1, vector2):\n",
    "            coordinate = x + y\n",
    "            vector_final.append(coordinate)\n",
    "        print(vector_final)"
   ]
  },
  {
   "cell_type": "code",
   "execution_count": 24,
   "id": "54f6fce7",
   "metadata": {},
   "outputs": [],
   "source": [
    "import numpy\n",
    "def convert_sparse_to_dense(dict):\n",
    "    vector_list = []\n",
    "    for key, value in dict.items():\n",
    "        vector_list.append(value)\n",
    "    return vector_list\n",
    "\n",
    "def sparse_dot_product(vector1, vector2):\n",
    "    vector1 = convert_sparse_to_dense(vector1)\n",
    "    vector2 = convert_sparse_to_dense(vector2)   \n",
    "    product = numpy.dot(vector1, vector2)\n",
    "    print(product)"
   ]
  },
  {
   "cell_type": "code",
   "execution_count": 48,
   "id": "1cc84b66",
   "metadata": {},
   "outputs": [],
   "source": [
    "def add_dense_sparse(vector1, vector2):\n",
    "    if type(vector1) is dict:\n",
    "        # then vector1 is sparse, so convert it\n",
    "        vector1 = convert_sparse_to_dense(vector1)\n",
    "        vector_final = []\n",
    "        if (len(vector1)!=len(vector2)):\n",
    "            return;\n",
    "        else:\n",
    "            for x, y in zip(vector1, vector2):\n",
    "                coordinate = x + y\n",
    "                vector_final.append(coordinate)\n",
    "            print(vector_final)\n",
    "    elif type(vector2) is dict:\n",
    "        # then vector1 is sparse, so convert it\n",
    "        vector2 = convert_sparse_to_dense(vector2)\n",
    "        vector_final = []\n",
    "        if (len(vector1)!=len(vector2)):\n",
    "            return;\n",
    "        else:\n",
    "            for x, y in zip(vector1, vector2):\n",
    "                coordinate = x + y\n",
    "                vector_final.append(coordinate)\n",
    "            print(vector_final)"
   ]
  },
  {
   "cell_type": "code",
   "execution_count": 50,
   "id": "fa747dad",
   "metadata": {},
   "outputs": [],
   "source": [
    "import numpy\n",
    "def dense_dot_product(vector1, vector2):\n",
    "    product = numpy.dot(vector1, vector2)\n",
    "    print(product)\n",
    "    \n",
    "def dot_product_dense_sparse(vector1, vector2):\n",
    "    if type(vector1) is dict:\n",
    "        # then vector1 is sparse, so convert it\n",
    "        vector1 = convert_sparse_to_dense(vector1)\n",
    "        vector_final = []\n",
    "        if (len(vector1)!=len(vector2)):\n",
    "            return;\n",
    "        else:\n",
    "        dense_dot_product(vector1, vector2)\n",
    "    elif type(vector2) is dict:\n",
    "        # then vector2 is sparse, so convert it\n",
    "        vector2 = convert_sparse_to_dense(vector2)\n",
    "        vector_final = []\n",
    "        if (len(vector1)!=len(vector2)):\n",
    "            return;\n",
    "        else:\n",
    "            dense_dot_product(vector1, vector2)"
   ]
  },
  {
   "cell_type": "markdown",
   "id": "9cd0b8c2",
   "metadata": {},
   "source": [
    "# Exercise 6.6: Reverse look-up"
   ]
  },
  {
   "cell_type": "code",
   "execution_count": 53,
   "id": "fd68b424",
   "metadata": {},
   "outputs": [
    {
     "name": "stdout",
     "output_type": "stream",
     "text": [
      "age\n"
     ]
    }
   ],
   "source": [
    "def reverse_lookup(dict, toFind):\n",
    "    for key, value in dict.items():\n",
    "        if (value == toFind):\n",
    "            print (key)\n",
    "myDict = {\"name\":\"Filiz\", \"age\":\"23\", \"lastname\": \"Yaraslioglu\"}\n",
    "reverse_lookup(myDict, \"23\")"
   ]
  },
  {
   "cell_type": "code",
   "execution_count": null,
   "id": "f1e725ed",
   "metadata": {},
   "outputs": [],
   "source": []
  }
 ],
 "metadata": {
  "kernelspec": {
   "display_name": "Python 3 (ipykernel)",
   "language": "python",
   "name": "python3"
  },
  "language_info": {
   "codemirror_mode": {
    "name": "ipython",
    "version": 3
   },
   "file_extension": ".py",
   "mimetype": "text/x-python",
   "name": "python",
   "nbconvert_exporter": "python",
   "pygments_lexer": "ipython3",
   "version": "3.10.2"
  }
 },
 "nbformat": 4,
 "nbformat_minor": 5
}
